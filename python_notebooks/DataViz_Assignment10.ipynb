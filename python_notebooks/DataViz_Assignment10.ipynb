{
 "cells": [
  {
   "cell_type": "markdown",
   "id": "cf0ecc72",
   "metadata": {},
   "source": [
    "# Assignment 10"
   ]
  },
  {
   "cell_type": "code",
   "execution_count": 1,
   "id": "66da6608",
   "metadata": {},
   "outputs": [],
   "source": [
    "import altair as alt"
   ]
  },
  {
   "cell_type": "code",
   "execution_count": 18,
   "id": "01a22ccf",
   "metadata": {},
   "outputs": [],
   "source": [
    "buildings_url = \"https://raw.githubusercontent.com/UIUC-iSchool-DataViz/is445_bcubcg_fall2022/main/data/building_inventory.csv\"\n",
    "jekyll_save_dir = r\"C:\\Users\\Ashton\\AshtonJA.github.io\\assets\\json\""
   ]
  },
  {
   "cell_type": "code",
   "execution_count": 3,
   "id": "1b0a01d0",
   "metadata": {},
   "outputs": [],
   "source": [
    "bar_alt = alt.Chart(buildings_url).mark_bar().encode(\n",
    "    alt.X(\"Total Floors:Q\", bin = True),\n",
    "    alt.Y(\"Square Footage:Q\", aggregate=\"mean\")\n",
    ")"
   ]
  },
  {
   "cell_type": "code",
   "execution_count": 4,
   "id": "c8f06931",
   "metadata": {},
   "outputs": [
    {
     "data": {
      "text/html": [
       "\n",
       "<div id=\"altair-viz-ff319cfc98284684aef57a1932f2cb18\"></div>\n",
       "<script type=\"text/javascript\">\n",
       "  var VEGA_DEBUG = (typeof VEGA_DEBUG == \"undefined\") ? {} : VEGA_DEBUG;\n",
       "  (function(spec, embedOpt){\n",
       "    let outputDiv = document.currentScript.previousElementSibling;\n",
       "    if (outputDiv.id !== \"altair-viz-ff319cfc98284684aef57a1932f2cb18\") {\n",
       "      outputDiv = document.getElementById(\"altair-viz-ff319cfc98284684aef57a1932f2cb18\");\n",
       "    }\n",
       "    const paths = {\n",
       "      \"vega\": \"https://cdn.jsdelivr.net/npm//vega@5?noext\",\n",
       "      \"vega-lib\": \"https://cdn.jsdelivr.net/npm//vega-lib?noext\",\n",
       "      \"vega-lite\": \"https://cdn.jsdelivr.net/npm//vega-lite@4.17.0?noext\",\n",
       "      \"vega-embed\": \"https://cdn.jsdelivr.net/npm//vega-embed@6?noext\",\n",
       "    };\n",
       "\n",
       "    function maybeLoadScript(lib, version) {\n",
       "      var key = `${lib.replace(\"-\", \"\")}_version`;\n",
       "      return (VEGA_DEBUG[key] == version) ?\n",
       "        Promise.resolve(paths[lib]) :\n",
       "        new Promise(function(resolve, reject) {\n",
       "          var s = document.createElement('script');\n",
       "          document.getElementsByTagName(\"head\")[0].appendChild(s);\n",
       "          s.async = true;\n",
       "          s.onload = () => {\n",
       "            VEGA_DEBUG[key] = version;\n",
       "            return resolve(paths[lib]);\n",
       "          };\n",
       "          s.onerror = () => reject(`Error loading script: ${paths[lib]}`);\n",
       "          s.src = paths[lib];\n",
       "        });\n",
       "    }\n",
       "\n",
       "    function showError(err) {\n",
       "      outputDiv.innerHTML = `<div class=\"error\" style=\"color:red;\">${err}</div>`;\n",
       "      throw err;\n",
       "    }\n",
       "\n",
       "    function displayChart(vegaEmbed) {\n",
       "      vegaEmbed(outputDiv, spec, embedOpt)\n",
       "        .catch(err => showError(`Javascript Error: ${err.message}<br>This usually means there's a typo in your chart specification. See the javascript console for the full traceback.`));\n",
       "    }\n",
       "\n",
       "    if(typeof define === \"function\" && define.amd) {\n",
       "      requirejs.config({paths});\n",
       "      require([\"vega-embed\"], displayChart, err => showError(`Error loading script: ${err.message}`));\n",
       "    } else {\n",
       "      maybeLoadScript(\"vega\", \"5\")\n",
       "        .then(() => maybeLoadScript(\"vega-lite\", \"4.17.0\"))\n",
       "        .then(() => maybeLoadScript(\"vega-embed\", \"6\"))\n",
       "        .catch(showError)\n",
       "        .then(() => displayChart(vegaEmbed));\n",
       "    }\n",
       "  })({\"config\": {\"view\": {\"continuousWidth\": 400, \"continuousHeight\": 300}}, \"data\": {\"url\": \"https://raw.githubusercontent.com/UIUC-iSchool-DataViz/is445_bcubcg_fall2022/main/data/building_inventory.csv\"}, \"mark\": \"bar\", \"encoding\": {\"x\": {\"bin\": true, \"field\": \"Total Floors\", \"type\": \"quantitative\"}, \"y\": {\"aggregate\": \"mean\", \"field\": \"Square Footage\", \"type\": \"quantitative\"}}, \"$schema\": \"https://vega.github.io/schema/vega-lite/v4.17.0.json\"}, {\"mode\": \"vega-lite\"});\n",
       "</script>"
      ],
      "text/plain": [
       "alt.Chart(...)"
      ]
     },
     "execution_count": 4,
     "metadata": {},
     "output_type": "execute_result"
    }
   ],
   "source": [
    "bar_alt"
   ]
  },
  {
   "cell_type": "code",
   "execution_count": 5,
   "id": "eadf2490",
   "metadata": {},
   "outputs": [],
   "source": [
    "line_alt = alt.Chart(buildings_url).mark_line().encode(\n",
    "    alt.X(\"Year Constructed:T\"),\n",
    "    alt.Y(\"Square Footage:Q\", aggregate=\"sum\")\n",
    ")"
   ]
  },
  {
   "cell_type": "code",
   "execution_count": 6,
   "id": "19ffac82",
   "metadata": {},
   "outputs": [
    {
     "data": {
      "text/html": [
       "\n",
       "<div id=\"altair-viz-948f3d9f647944d7b1838489192f8087\"></div>\n",
       "<script type=\"text/javascript\">\n",
       "  var VEGA_DEBUG = (typeof VEGA_DEBUG == \"undefined\") ? {} : VEGA_DEBUG;\n",
       "  (function(spec, embedOpt){\n",
       "    let outputDiv = document.currentScript.previousElementSibling;\n",
       "    if (outputDiv.id !== \"altair-viz-948f3d9f647944d7b1838489192f8087\") {\n",
       "      outputDiv = document.getElementById(\"altair-viz-948f3d9f647944d7b1838489192f8087\");\n",
       "    }\n",
       "    const paths = {\n",
       "      \"vega\": \"https://cdn.jsdelivr.net/npm//vega@5?noext\",\n",
       "      \"vega-lib\": \"https://cdn.jsdelivr.net/npm//vega-lib?noext\",\n",
       "      \"vega-lite\": \"https://cdn.jsdelivr.net/npm//vega-lite@4.17.0?noext\",\n",
       "      \"vega-embed\": \"https://cdn.jsdelivr.net/npm//vega-embed@6?noext\",\n",
       "    };\n",
       "\n",
       "    function maybeLoadScript(lib, version) {\n",
       "      var key = `${lib.replace(\"-\", \"\")}_version`;\n",
       "      return (VEGA_DEBUG[key] == version) ?\n",
       "        Promise.resolve(paths[lib]) :\n",
       "        new Promise(function(resolve, reject) {\n",
       "          var s = document.createElement('script');\n",
       "          document.getElementsByTagName(\"head\")[0].appendChild(s);\n",
       "          s.async = true;\n",
       "          s.onload = () => {\n",
       "            VEGA_DEBUG[key] = version;\n",
       "            return resolve(paths[lib]);\n",
       "          };\n",
       "          s.onerror = () => reject(`Error loading script: ${paths[lib]}`);\n",
       "          s.src = paths[lib];\n",
       "        });\n",
       "    }\n",
       "\n",
       "    function showError(err) {\n",
       "      outputDiv.innerHTML = `<div class=\"error\" style=\"color:red;\">${err}</div>`;\n",
       "      throw err;\n",
       "    }\n",
       "\n",
       "    function displayChart(vegaEmbed) {\n",
       "      vegaEmbed(outputDiv, spec, embedOpt)\n",
       "        .catch(err => showError(`Javascript Error: ${err.message}<br>This usually means there's a typo in your chart specification. See the javascript console for the full traceback.`));\n",
       "    }\n",
       "\n",
       "    if(typeof define === \"function\" && define.amd) {\n",
       "      requirejs.config({paths});\n",
       "      require([\"vega-embed\"], displayChart, err => showError(`Error loading script: ${err.message}`));\n",
       "    } else {\n",
       "      maybeLoadScript(\"vega\", \"5\")\n",
       "        .then(() => maybeLoadScript(\"vega-lite\", \"4.17.0\"))\n",
       "        .then(() => maybeLoadScript(\"vega-embed\", \"6\"))\n",
       "        .catch(showError)\n",
       "        .then(() => displayChart(vegaEmbed));\n",
       "    }\n",
       "  })({\"config\": {\"view\": {\"continuousWidth\": 400, \"continuousHeight\": 300}}, \"data\": {\"url\": \"https://raw.githubusercontent.com/UIUC-iSchool-DataViz/is445_bcubcg_fall2022/main/data/building_inventory.csv\"}, \"mark\": \"line\", \"encoding\": {\"x\": {\"field\": \"Year Constructed\", \"type\": \"temporal\"}, \"y\": {\"aggregate\": \"sum\", \"field\": \"Square Footage\", \"type\": \"quantitative\"}}, \"$schema\": \"https://vega.github.io/schema/vega-lite/v4.17.0.json\"}, {\"mode\": \"vega-lite\"});\n",
       "</script>"
      ],
      "text/plain": [
       "alt.Chart(...)"
      ]
     },
     "execution_count": 6,
     "metadata": {},
     "output_type": "execute_result"
    }
   ],
   "source": [
    "line_alt"
   ]
  },
  {
   "cell_type": "code",
   "execution_count": 7,
   "id": "0729d6cc",
   "metadata": {},
   "outputs": [],
   "source": [
    "dashboard = bar_alt|line_alt"
   ]
  },
  {
   "cell_type": "code",
   "execution_count": 8,
   "id": "49fe2f17",
   "metadata": {},
   "outputs": [
    {
     "data": {
      "text/html": [
       "\n",
       "<div id=\"altair-viz-87f60d22a4bd4bd4b1e620a615e338a6\"></div>\n",
       "<script type=\"text/javascript\">\n",
       "  var VEGA_DEBUG = (typeof VEGA_DEBUG == \"undefined\") ? {} : VEGA_DEBUG;\n",
       "  (function(spec, embedOpt){\n",
       "    let outputDiv = document.currentScript.previousElementSibling;\n",
       "    if (outputDiv.id !== \"altair-viz-87f60d22a4bd4bd4b1e620a615e338a6\") {\n",
       "      outputDiv = document.getElementById(\"altair-viz-87f60d22a4bd4bd4b1e620a615e338a6\");\n",
       "    }\n",
       "    const paths = {\n",
       "      \"vega\": \"https://cdn.jsdelivr.net/npm//vega@5?noext\",\n",
       "      \"vega-lib\": \"https://cdn.jsdelivr.net/npm//vega-lib?noext\",\n",
       "      \"vega-lite\": \"https://cdn.jsdelivr.net/npm//vega-lite@4.17.0?noext\",\n",
       "      \"vega-embed\": \"https://cdn.jsdelivr.net/npm//vega-embed@6?noext\",\n",
       "    };\n",
       "\n",
       "    function maybeLoadScript(lib, version) {\n",
       "      var key = `${lib.replace(\"-\", \"\")}_version`;\n",
       "      return (VEGA_DEBUG[key] == version) ?\n",
       "        Promise.resolve(paths[lib]) :\n",
       "        new Promise(function(resolve, reject) {\n",
       "          var s = document.createElement('script');\n",
       "          document.getElementsByTagName(\"head\")[0].appendChild(s);\n",
       "          s.async = true;\n",
       "          s.onload = () => {\n",
       "            VEGA_DEBUG[key] = version;\n",
       "            return resolve(paths[lib]);\n",
       "          };\n",
       "          s.onerror = () => reject(`Error loading script: ${paths[lib]}`);\n",
       "          s.src = paths[lib];\n",
       "        });\n",
       "    }\n",
       "\n",
       "    function showError(err) {\n",
       "      outputDiv.innerHTML = `<div class=\"error\" style=\"color:red;\">${err}</div>`;\n",
       "      throw err;\n",
       "    }\n",
       "\n",
       "    function displayChart(vegaEmbed) {\n",
       "      vegaEmbed(outputDiv, spec, embedOpt)\n",
       "        .catch(err => showError(`Javascript Error: ${err.message}<br>This usually means there's a typo in your chart specification. See the javascript console for the full traceback.`));\n",
       "    }\n",
       "\n",
       "    if(typeof define === \"function\" && define.amd) {\n",
       "      requirejs.config({paths});\n",
       "      require([\"vega-embed\"], displayChart, err => showError(`Error loading script: ${err.message}`));\n",
       "    } else {\n",
       "      maybeLoadScript(\"vega\", \"5\")\n",
       "        .then(() => maybeLoadScript(\"vega-lite\", \"4.17.0\"))\n",
       "        .then(() => maybeLoadScript(\"vega-embed\", \"6\"))\n",
       "        .catch(showError)\n",
       "        .then(() => displayChart(vegaEmbed));\n",
       "    }\n",
       "  })({\"config\": {\"view\": {\"continuousWidth\": 400, \"continuousHeight\": 300}}, \"hconcat\": [{\"mark\": \"bar\", \"encoding\": {\"x\": {\"bin\": true, \"field\": \"Total Floors\", \"type\": \"quantitative\"}, \"y\": {\"aggregate\": \"mean\", \"field\": \"Square Footage\", \"type\": \"quantitative\"}}}, {\"mark\": \"line\", \"encoding\": {\"x\": {\"field\": \"Year Constructed\", \"type\": \"temporal\"}, \"y\": {\"aggregate\": \"sum\", \"field\": \"Square Footage\", \"type\": \"quantitative\"}}}], \"data\": {\"url\": \"https://raw.githubusercontent.com/UIUC-iSchool-DataViz/is445_bcubcg_fall2022/main/data/building_inventory.csv\"}, \"$schema\": \"https://vega.github.io/schema/vega-lite/v4.17.0.json\"}, {\"mode\": \"vega-lite\"});\n",
       "</script>"
      ],
      "text/plain": [
       "alt.HConcatChart(...)"
      ]
     },
     "execution_count": 8,
     "metadata": {},
     "output_type": "execute_result"
    }
   ],
   "source": [
    "dashboard"
   ]
  },
  {
   "cell_type": "code",
   "execution_count": 9,
   "id": "22f83656",
   "metadata": {},
   "outputs": [],
   "source": [
    "brush = alt.selection_single(encodings=['x', 'y'])\n",
    "\n",
    "bar_alt = alt.Chart(buildings_url).mark_bar().encode(\n",
    "    alt.X(\"Total Floors:Q\", bin = True),\n",
    "    alt.Y(\"Square Footage:Q\", aggregate=\"mean\")\n",
    ").add_selection(\n",
    "    brush\n",
    ")\n",
    "\n",
    "line_alt = alt.Chart(buildings_url).mark_line().encode(\n",
    "    alt.X(\"Year Constructed:T\"),\n",
    "    alt.Y(\"Square Footage:Q\", aggregate=\"sum\")\n",
    ").transform_filter(\n",
    "    brush\n",
    ")"
   ]
  },
  {
   "cell_type": "code",
   "execution_count": 10,
   "id": "6b2df93f",
   "metadata": {},
   "outputs": [],
   "source": [
    "dashboard = bar_alt|line_alt"
   ]
  },
  {
   "cell_type": "code",
   "execution_count": 11,
   "id": "70906763",
   "metadata": {},
   "outputs": [
    {
     "data": {
      "text/html": [
       "\n",
       "<div id=\"altair-viz-620c6441defc46d5bb7b2387d164c47c\"></div>\n",
       "<script type=\"text/javascript\">\n",
       "  var VEGA_DEBUG = (typeof VEGA_DEBUG == \"undefined\") ? {} : VEGA_DEBUG;\n",
       "  (function(spec, embedOpt){\n",
       "    let outputDiv = document.currentScript.previousElementSibling;\n",
       "    if (outputDiv.id !== \"altair-viz-620c6441defc46d5bb7b2387d164c47c\") {\n",
       "      outputDiv = document.getElementById(\"altair-viz-620c6441defc46d5bb7b2387d164c47c\");\n",
       "    }\n",
       "    const paths = {\n",
       "      \"vega\": \"https://cdn.jsdelivr.net/npm//vega@5?noext\",\n",
       "      \"vega-lib\": \"https://cdn.jsdelivr.net/npm//vega-lib?noext\",\n",
       "      \"vega-lite\": \"https://cdn.jsdelivr.net/npm//vega-lite@4.17.0?noext\",\n",
       "      \"vega-embed\": \"https://cdn.jsdelivr.net/npm//vega-embed@6?noext\",\n",
       "    };\n",
       "\n",
       "    function maybeLoadScript(lib, version) {\n",
       "      var key = `${lib.replace(\"-\", \"\")}_version`;\n",
       "      return (VEGA_DEBUG[key] == version) ?\n",
       "        Promise.resolve(paths[lib]) :\n",
       "        new Promise(function(resolve, reject) {\n",
       "          var s = document.createElement('script');\n",
       "          document.getElementsByTagName(\"head\")[0].appendChild(s);\n",
       "          s.async = true;\n",
       "          s.onload = () => {\n",
       "            VEGA_DEBUG[key] = version;\n",
       "            return resolve(paths[lib]);\n",
       "          };\n",
       "          s.onerror = () => reject(`Error loading script: ${paths[lib]}`);\n",
       "          s.src = paths[lib];\n",
       "        });\n",
       "    }\n",
       "\n",
       "    function showError(err) {\n",
       "      outputDiv.innerHTML = `<div class=\"error\" style=\"color:red;\">${err}</div>`;\n",
       "      throw err;\n",
       "    }\n",
       "\n",
       "    function displayChart(vegaEmbed) {\n",
       "      vegaEmbed(outputDiv, spec, embedOpt)\n",
       "        .catch(err => showError(`Javascript Error: ${err.message}<br>This usually means there's a typo in your chart specification. See the javascript console for the full traceback.`));\n",
       "    }\n",
       "\n",
       "    if(typeof define === \"function\" && define.amd) {\n",
       "      requirejs.config({paths});\n",
       "      require([\"vega-embed\"], displayChart, err => showError(`Error loading script: ${err.message}`));\n",
       "    } else {\n",
       "      maybeLoadScript(\"vega\", \"5\")\n",
       "        .then(() => maybeLoadScript(\"vega-lite\", \"4.17.0\"))\n",
       "        .then(() => maybeLoadScript(\"vega-embed\", \"6\"))\n",
       "        .catch(showError)\n",
       "        .then(() => displayChart(vegaEmbed));\n",
       "    }\n",
       "  })({\"config\": {\"view\": {\"continuousWidth\": 400, \"continuousHeight\": 300}}, \"hconcat\": [{\"mark\": \"bar\", \"encoding\": {\"x\": {\"bin\": true, \"field\": \"Total Floors\", \"type\": \"quantitative\"}, \"y\": {\"aggregate\": \"mean\", \"field\": \"Square Footage\", \"type\": \"quantitative\"}}, \"selection\": {\"selector001\": {\"type\": \"single\", \"encodings\": [\"x\", \"y\"]}}}, {\"mark\": \"line\", \"encoding\": {\"x\": {\"field\": \"Year Constructed\", \"type\": \"temporal\"}, \"y\": {\"aggregate\": \"sum\", \"field\": \"Square Footage\", \"type\": \"quantitative\"}}, \"transform\": [{\"filter\": {\"selection\": \"selector001\"}}]}], \"data\": {\"url\": \"https://raw.githubusercontent.com/UIUC-iSchool-DataViz/is445_bcubcg_fall2022/main/data/building_inventory.csv\"}, \"$schema\": \"https://vega.github.io/schema/vega-lite/v4.17.0.json\"}, {\"mode\": \"vega-lite\"});\n",
       "</script>"
      ],
      "text/plain": [
       "alt.HConcatChart(...)"
      ]
     },
     "execution_count": 11,
     "metadata": {},
     "output_type": "execute_result"
    }
   ],
   "source": [
    "dashboard"
   ]
  },
  {
   "cell_type": "code",
   "execution_count": 19,
   "id": "273196e0",
   "metadata": {},
   "outputs": [],
   "source": [
    "dashboard.save(jekyll_save_dir+\"\\Assignment10.json\")"
   ]
  },
  {
   "cell_type": "markdown",
   "id": "5a840b6c",
   "metadata": {},
   "source": [
    "\"I chose for my first visualization to make a bar graph representing the relationship between the total amount of floors in the buildings from the dataset and the average square footage. I chose this because I was interested to see if there was a consistency in the average square\n",
    "footage rising as the amount of floors increased. Surprisingly, this turned out to not be completely true.\" (Assignment 9) I decided to use a bar graph because it looked cleaner than any of the other mark options and allowed me to implement the interactivity that I wanted to. I used the default options for number of bins, width/height of the graph, and color. For encoding, I only encoded the x and y axis, with bins on the x axis and the values on the y axis aggregated by the mean. I did not do any data transformations, since the data was already cleaned as far as I could tell and no errors were encountered in my plots. Between Assignment 9 and this assignment, most of my changes were in translating the graph from vega-lite to altair and adding the interactivity that I will discuss later. To do this, I obviously had to change nearly every line of code, using \"alt.\" before many of them to use the functions from the altair library. The encodings were also slightly different but followed the same general scheme.\n",
    "\n",
    "\"For my second visualization I chose to create a line graph showing the relationship between the years in which buildings were constructed and the sum of the square footage built each year. I decided to do this because I was interested in seeing which years had the most square footage constructed in buildings and if that would be somewhat linear as time went on.\" (Assignment 9) The biggest changes I made in this graph from Assignment 9 was changing every line to work with the altair library. I built it from scratch, so I had to use the altair functions to produce the graph. The first line of code, creating the variable that holds the graph, was the most variation from the vega-lite version. Other than that, the encodings were mostly the same. For this graph, I did not use any extra encodings aside from the two axes other than aggregating the y-axis by the sum of the values. I also did not make any aesthetic changes to the graph, simply using the default height and width.\n",
    "\n",
    "For interactivity, I linked the two graphs by using a single selection parameter on the bar graph. This allows the viewer to click on any bin in the bar graph to see the corresponding line graph on the right of the dashboard that goes along with the buildings with the selected amount of floors. This worked well, although all of the buildings fitting into the last two bins in the bar graph either did not have a year constructed or did not have square footage associated with them."
   ]
  },
  {
   "cell_type": "code",
   "execution_count": null,
   "id": "05ae7fd5",
   "metadata": {},
   "outputs": [],
   "source": []
  }
 ],
 "metadata": {
  "kernelspec": {
   "display_name": "Python 3 (ipykernel)",
   "language": "python",
   "name": "python3"
  },
  "language_info": {
   "codemirror_mode": {
    "name": "ipython",
    "version": 3
   },
   "file_extension": ".py",
   "mimetype": "text/x-python",
   "name": "python",
   "nbconvert_exporter": "python",
   "pygments_lexer": "ipython3",
   "version": "3.9.12"
  }
 },
 "nbformat": 4,
 "nbformat_minor": 5
}
