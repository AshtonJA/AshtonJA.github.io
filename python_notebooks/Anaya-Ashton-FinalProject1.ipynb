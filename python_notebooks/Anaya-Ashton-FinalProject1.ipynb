{
 "cells": [
  {
   "cell_type": "markdown",
   "id": "11cadf58",
   "metadata": {},
   "source": [
    "I chose to use the \"Electric Vehicle Population Data\" dataset."
   ]
  },
  {
   "cell_type": "markdown",
   "id": "093192de",
   "metadata": {},
   "source": [
    "I found the dataset on catalog.data.gov, specifically at the URL: https://catalog.data.gov/dataset/electric-vehicle-population-data\n",
    "\n",
    "This dataset shows the Battery Electric Vehicles (BEVs) and Plug-in Hybrid Electric Vehicles (PHEVs) that are currently registered through Washington State Department of Licensing (DOL). (Quoted from data.WA.gov)\n",
    "\n",
    "Anyone can obtain this same dataset at the previously stated URL, or alternatively straight from its actual source, at: https://data.wa.gov/Transportation/Electric-Vehicle-Population-Data/f6w7-q2d2 or in the same folder as this notebook, under the name, \"Electric_Vehicle_Population_Data.csv\""
   ]
  },
  {
   "cell_type": "markdown",
   "id": "3eea63a6",
   "metadata": {},
   "source": [
    "The licensing information for the dataset is not explicitly stated, but it is categorized as being for public access and use. However, like most government data, I would assume that the data in this dataset is in the public domain. This means that anyone is allowed to view it, create visualizations of it, and even republish accurate representations of it.\n",
    "\n",
    "The dataset is about 25MB and 109,027 rows by 17 columns, putting it well within GitHub's limit of 100MB. This means I have no reason to host the data myself and I will most likely upload it directly to GitHub."
   ]
  },
  {
   "cell_type": "markdown",
   "id": "243e3542",
   "metadata": {},
   "source": [
    "# Now on to the actual data:"
   ]
  },
  {
   "cell_type": "code",
   "execution_count": 1,
   "id": "dabc1ffb",
   "metadata": {},
   "outputs": [],
   "source": [
    "#Imports:\n",
    "import pandas as pd\n",
    "import seaborn as sns\n",
    "import matplotlib.pyplot as plt\n",
    "import numpy as np"
   ]
  },
  {
   "cell_type": "code",
   "execution_count": 2,
   "id": "c08748f7",
   "metadata": {
    "scrolled": true
   },
   "outputs": [
    {
     "data": {
      "text/html": [
       "<div>\n",
       "<style scoped>\n",
       "    .dataframe tbody tr th:only-of-type {\n",
       "        vertical-align: middle;\n",
       "    }\n",
       "\n",
       "    .dataframe tbody tr th {\n",
       "        vertical-align: top;\n",
       "    }\n",
       "\n",
       "    .dataframe thead th {\n",
       "        text-align: right;\n",
       "    }\n",
       "</style>\n",
       "<table border=\"1\" class=\"dataframe\">\n",
       "  <thead>\n",
       "    <tr style=\"text-align: right;\">\n",
       "      <th></th>\n",
       "      <th>VIN (1-10)</th>\n",
       "      <th>County</th>\n",
       "      <th>City</th>\n",
       "      <th>State</th>\n",
       "      <th>Postal Code</th>\n",
       "      <th>Model Year</th>\n",
       "      <th>Make</th>\n",
       "      <th>Model</th>\n",
       "      <th>Electric Vehicle Type</th>\n",
       "      <th>Clean Alternative Fuel Vehicle (CAFV) Eligibility</th>\n",
       "      <th>Electric Range</th>\n",
       "      <th>Base MSRP</th>\n",
       "      <th>Legislative District</th>\n",
       "      <th>DOL Vehicle ID</th>\n",
       "      <th>Vehicle Location</th>\n",
       "      <th>Electric Utility</th>\n",
       "      <th>2020 Census Tract</th>\n",
       "    </tr>\n",
       "  </thead>\n",
       "  <tbody>\n",
       "    <tr>\n",
       "      <th>0</th>\n",
       "      <td>1N4BZ0CP9G</td>\n",
       "      <td>Snohomish</td>\n",
       "      <td>Arlington</td>\n",
       "      <td>WA</td>\n",
       "      <td>98223</td>\n",
       "      <td>2016</td>\n",
       "      <td>NISSAN</td>\n",
       "      <td>LEAF</td>\n",
       "      <td>Battery Electric Vehicle (BEV)</td>\n",
       "      <td>Clean Alternative Fuel Vehicle Eligible</td>\n",
       "      <td>84</td>\n",
       "      <td>0</td>\n",
       "      <td>39.0</td>\n",
       "      <td>238236288</td>\n",
       "      <td>NaN</td>\n",
       "      <td>PUGET SOUND ENERGY INC</td>\n",
       "      <td>53061052701</td>\n",
       "    </tr>\n",
       "    <tr>\n",
       "      <th>1</th>\n",
       "      <td>1N4AZ0CP5G</td>\n",
       "      <td>King</td>\n",
       "      <td>Seattle</td>\n",
       "      <td>WA</td>\n",
       "      <td>98118</td>\n",
       "      <td>2016</td>\n",
       "      <td>NISSAN</td>\n",
       "      <td>LEAF</td>\n",
       "      <td>Battery Electric Vehicle (BEV)</td>\n",
       "      <td>Clean Alternative Fuel Vehicle Eligible</td>\n",
       "      <td>84</td>\n",
       "      <td>0</td>\n",
       "      <td>37.0</td>\n",
       "      <td>182735367</td>\n",
       "      <td>NaN</td>\n",
       "      <td>PUGET SOUND ENERGY INC||CITY OF TACOMA - (WA)</td>\n",
       "      <td>53033011102</td>\n",
       "    </tr>\n",
       "    <tr>\n",
       "      <th>2</th>\n",
       "      <td>1N4BZ1CP7K</td>\n",
       "      <td>Thurston</td>\n",
       "      <td>Olympia</td>\n",
       "      <td>WA</td>\n",
       "      <td>98502</td>\n",
       "      <td>2019</td>\n",
       "      <td>NISSAN</td>\n",
       "      <td>LEAF</td>\n",
       "      <td>Battery Electric Vehicle (BEV)</td>\n",
       "      <td>Clean Alternative Fuel Vehicle Eligible</td>\n",
       "      <td>150</td>\n",
       "      <td>0</td>\n",
       "      <td>22.0</td>\n",
       "      <td>142814556</td>\n",
       "      <td>POINT (-102.71236 22.94812)</td>\n",
       "      <td>NaN</td>\n",
       "      <td>53067012002</td>\n",
       "    </tr>\n",
       "    <tr>\n",
       "      <th>3</th>\n",
       "      <td>5YJ3E1EBXK</td>\n",
       "      <td>Frederick</td>\n",
       "      <td>Frederick</td>\n",
       "      <td>MD</td>\n",
       "      <td>21704</td>\n",
       "      <td>2019</td>\n",
       "      <td>TESLA</td>\n",
       "      <td>MODEL 3</td>\n",
       "      <td>Battery Electric Vehicle (BEV)</td>\n",
       "      <td>Clean Alternative Fuel Vehicle Eligible</td>\n",
       "      <td>220</td>\n",
       "      <td>0</td>\n",
       "      <td>NaN</td>\n",
       "      <td>114252337</td>\n",
       "      <td>POINT (-77.368491 39.354463)</td>\n",
       "      <td>NaN</td>\n",
       "      <td>24021752205</td>\n",
       "    </tr>\n",
       "    <tr>\n",
       "      <th>4</th>\n",
       "      <td>5YJ3E1EAXL</td>\n",
       "      <td>King</td>\n",
       "      <td>Bellevue</td>\n",
       "      <td>WA</td>\n",
       "      <td>98008</td>\n",
       "      <td>2020</td>\n",
       "      <td>TESLA</td>\n",
       "      <td>MODEL 3</td>\n",
       "      <td>Battery Electric Vehicle (BEV)</td>\n",
       "      <td>Clean Alternative Fuel Vehicle Eligible</td>\n",
       "      <td>266</td>\n",
       "      <td>0</td>\n",
       "      <td>48.0</td>\n",
       "      <td>2075510</td>\n",
       "      <td>NaN</td>\n",
       "      <td>PUGET SOUND ENERGY INC||CITY OF TACOMA - (WA)</td>\n",
       "      <td>53033023100</td>\n",
       "    </tr>\n",
       "  </tbody>\n",
       "</table>\n",
       "</div>"
      ],
      "text/plain": [
       "   VIN (1-10)     County       City State  Postal Code  Model Year    Make  \\\n",
       "0  1N4BZ0CP9G  Snohomish  Arlington    WA        98223        2016  NISSAN   \n",
       "1  1N4AZ0CP5G       King    Seattle    WA        98118        2016  NISSAN   \n",
       "2  1N4BZ1CP7K   Thurston    Olympia    WA        98502        2019  NISSAN   \n",
       "3  5YJ3E1EBXK  Frederick  Frederick    MD        21704        2019   TESLA   \n",
       "4  5YJ3E1EAXL       King   Bellevue    WA        98008        2020   TESLA   \n",
       "\n",
       "     Model           Electric Vehicle Type  \\\n",
       "0     LEAF  Battery Electric Vehicle (BEV)   \n",
       "1     LEAF  Battery Electric Vehicle (BEV)   \n",
       "2     LEAF  Battery Electric Vehicle (BEV)   \n",
       "3  MODEL 3  Battery Electric Vehicle (BEV)   \n",
       "4  MODEL 3  Battery Electric Vehicle (BEV)   \n",
       "\n",
       "  Clean Alternative Fuel Vehicle (CAFV) Eligibility  Electric Range  \\\n",
       "0           Clean Alternative Fuel Vehicle Eligible              84   \n",
       "1           Clean Alternative Fuel Vehicle Eligible              84   \n",
       "2           Clean Alternative Fuel Vehicle Eligible             150   \n",
       "3           Clean Alternative Fuel Vehicle Eligible             220   \n",
       "4           Clean Alternative Fuel Vehicle Eligible             266   \n",
       "\n",
       "   Base MSRP  Legislative District  DOL Vehicle ID  \\\n",
       "0          0                  39.0       238236288   \n",
       "1          0                  37.0       182735367   \n",
       "2          0                  22.0       142814556   \n",
       "3          0                   NaN       114252337   \n",
       "4          0                  48.0         2075510   \n",
       "\n",
       "               Vehicle Location  \\\n",
       "0                           NaN   \n",
       "1                           NaN   \n",
       "2   POINT (-102.71236 22.94812)   \n",
       "3  POINT (-77.368491 39.354463)   \n",
       "4                           NaN   \n",
       "\n",
       "                                Electric Utility  2020 Census Tract  \n",
       "0                         PUGET SOUND ENERGY INC        53061052701  \n",
       "1  PUGET SOUND ENERGY INC||CITY OF TACOMA - (WA)        53033011102  \n",
       "2                                            NaN        53067012002  \n",
       "3                                            NaN        24021752205  \n",
       "4  PUGET SOUND ENERGY INC||CITY OF TACOMA - (WA)        53033023100  "
      ]
     },
     "execution_count": 2,
     "metadata": {},
     "output_type": "execute_result"
    }
   ],
   "source": [
    "df = pd.read_csv('Electric_Vehicle_Population_Data.csv')\n",
    "df.head()"
   ]
  },
  {
   "cell_type": "markdown",
   "id": "2aed1923",
   "metadata": {},
   "source": [
    "# Columns and their descriptions:\n",
    "*VIN (1-10)*: The 1st 10 characters of each vehicle's Vehicle Identification Number (VIN).\n",
    "\n",
    "*County*: The county in which the registered owner resides.\n",
    "\n",
    "*City*: The city in which the registered owner resides.\n",
    "\n",
    "*State*: The state in which the registered owner resides.\n",
    "\n",
    "*Postal Code*: The 5 digit zip code in which the registered owner resides.\n",
    "\n",
    "*Model Year*: The model year of the vehicle, determined by decoding the VIN.\n",
    "\n",
    "*Make*: The manufacturer of the vehicle, determined by decoding the VIN.\n",
    "\n",
    "*Model*: The model of the vehicle, determined by decoding the VIN.\n",
    "\n",
    "*Electric Vehicle Type*: This distinguishes the vehicle as all electric or a plug-in hybrid.\n",
    "\n",
    "*Clean Alternative Fuel Vehicle (CAFV) Eligibility*: This categorizes the vehicle as Clean Alternative Fuel Vehicles (CAFVs) based on the fuel requirement and electric-only range requirement in House Bill 2042 as passed in the 2019 legislative session.\n",
    "\n",
    "*Electric Range*: Describes how far a vehicle can travel purely on its electric charge.\n",
    "\n",
    "*Base MSRP*: This is the lowest Manufacturer's Suggested Retail Price (MSRP) for any trim level of the model in question.\n",
    "\n",
    "*Legislative District*: The specific section of Washington State that the vehicle's owner resides in, as represented in the state legislature.\n",
    "\n",
    "*DOL Vehicle ID*: Unique number assigned to each vehicle by Department of Licensing for identification purposes.\n",
    "\n",
    "*Vehicle Location*: The center of the ZIP Code for the registered vehicle.\n",
    "\n",
    "*Electric Utility*: This is the electric power retail service territories serving the address of the registered vehicle. All ownership types for areas in Washington are included: federal, investor owned, municipal, political subdivision, and cooperative. If the address for the registered vehicle falls into an area with overlapping electric power retail service territories then a single pipe | delimits utilities of the same TYPE and a double pipe || delimits utilities of different types. We combined vehicle address and Homeland Infrastructure Foundation Level Database (HIFLD) (https://gii.dhs.gov/HIFLD) Retail_Service_Territories feature layer using a geographic information system to assign values for this field. Blanks occur for vehicles with addresses outside of Washington or for addresses falling into areas in Washington not containing a mapped electric power retail service territory in the source data.\n",
    "\n",
    "*2020 Census Tract*: The census tract identifier is a combination of the state, county, and census tract codes as assigned by the United States Census Bureau in the 2020 census, also known as Geographic Identifier (GEOID). More information can be found here: https://www.census.gov/programs-surveys/geography/about/glossary.html#par_textimage_13 https://www.census.gov/programs-surveys/geography/guidance/geo-identifiers.html"
   ]
  },
  {
   "cell_type": "markdown",
   "id": "174c3169",
   "metadata": {},
   "source": [
    "**Column Types:**"
   ]
  },
  {
   "cell_type": "code",
   "execution_count": 3,
   "id": "2d6892aa",
   "metadata": {
    "scrolled": false
   },
   "outputs": [
    {
     "data": {
      "text/plain": [
       "VIN (1-10)                                            object\n",
       "County                                                object\n",
       "City                                                  object\n",
       "State                                                 object\n",
       "Postal Code                                            int64\n",
       "Model Year                                             int64\n",
       "Make                                                  object\n",
       "Model                                                 object\n",
       "Electric Vehicle Type                                 object\n",
       "Clean Alternative Fuel Vehicle (CAFV) Eligibility     object\n",
       "Electric Range                                         int64\n",
       "Base MSRP                                              int64\n",
       "Legislative District                                 float64\n",
       "DOL Vehicle ID                                         int64\n",
       "Vehicle Location                                      object\n",
       "Electric Utility                                      object\n",
       "2020 Census Tract                                      int64\n",
       "dtype: object"
      ]
     },
     "execution_count": 3,
     "metadata": {},
     "output_type": "execute_result"
    }
   ],
   "source": [
    "df.dtypes"
   ]
  },
  {
   "cell_type": "markdown",
   "id": "9b467204",
   "metadata": {},
   "source": [
    "**Main Plot:**"
   ]
  },
  {
   "cell_type": "code",
   "execution_count": 4,
   "id": "bf4bc8fd",
   "metadata": {},
   "outputs": [
    {
     "data": {
      "text/plain": [
       "City\n",
       "Seattle          10744\n",
       "Bellevue          3056\n",
       "Redmond           2223\n",
       "Vancouver         2031\n",
       "Kirkland          1894\n",
       "Sammamish         1687\n",
       "Bothell           1654\n",
       "Olympia           1474\n",
       "Renton            1402\n",
       "Tacoma            1212\n",
       "Bellingham        1136\n",
       "Issaquah           939\n",
       "Woodinville        936\n",
       "Mercer Island      904\n",
       "Spokane            866\n",
       "Everett            785\n",
       "Kent               732\n",
       "Snohomish          714\n",
       "Shoreline          707\n",
       "Edmonds            698\n",
       "Name: Clean Alternative Fuel Vehicle (CAFV) Eligibility, dtype: int64"
      ]
     },
     "execution_count": 4,
     "metadata": {},
     "output_type": "execute_result"
    }
   ],
   "source": [
    "cities_clean_energy = df[df['Clean Alternative Fuel Vehicle (CAFV) Eligibility'] == 'Clean Alternative Fuel Vehicle Eligible'].groupby('City').count()['Clean Alternative Fuel Vehicle (CAFV) Eligibility'].sort_values(ascending=False)\n",
    "cities_clean_energy = cities_clean_energy.nlargest(20)\n",
    "cities_clean_energy"
   ]
  },
  {
   "cell_type": "code",
   "execution_count": 5,
   "id": "09f1b55d",
   "metadata": {
    "scrolled": true
   },
   "outputs": [
    {
     "data": {
      "image/png": "[encoded data removed]",
      "text/plain": [
       "<Figure size 432x288 with 1 Axes>"
      ]
     },
     "metadata": {
      "needs_background": "light"
     },
     "output_type": "display_data"
    }
   ],
   "source": [
    "cities_clean_energy.plot.bar()\n",
    "\n",
    "plt.title('CAFV Eligible Vehicles Registered in Each Washington County')\n",
    "plt.ylabel('Number of Vehicles')\n",
    "\n",
    "plt.show()"
   ]
  },
  {
   "cell_type": "markdown",
   "id": "5b719c6c",
   "metadata": {},
   "source": [
    "I made this plot to display the top 20 cities in Washington decided by the total amount of Clean Alternative Fuel Vehicle (CAFV) Eligible electric vehicles in the city. I found this interesting because it somewhat hints at what cities are making the most progress towards transferring their vehicle use over from gas powered cars to cars powered by clean energy."
   ]
  },
  {
   "cell_type": "markdown",
   "id": "2032583b",
   "metadata": {},
   "source": [
    "**Data Exploration:**"
   ]
  },
  {
   "cell_type": "code",
   "execution_count": 6,
   "id": "b5e97b8f",
   "metadata": {},
   "outputs": [
    {
     "data": {
      "text/plain": [
       "Make\n",
       "JAGUAR                  212.130841\n",
       "TESLA                   128.745004\n",
       "CHEVROLET               114.165011\n",
       "WHEEGO ELECTRIC CARS    100.000000\n",
       "TH!NK                   100.000000\n",
       "NISSAN                   90.263781\n",
       "FIAT                     85.649635\n",
       "DODGE                    80.000000\n",
       "AUDI                     64.963062\n",
       "SMART                    62.307971\n",
       "KIA                      60.192071\n",
       "AZURE DYNAMICS           56.000000\n",
       "PORSCHE                  55.686324\n",
       "VOLKSWAGEN               48.729647\n",
       "BMW                      47.362438\n",
       "HYUNDAI                  46.699130\n",
       "HONDA                    46.615287\n",
       "POLESTAR                 45.202000\n",
       "CADILLAC                 35.682243\n",
       "FISKER                   33.000000\n",
       "CHRYSLER                 32.367914\n",
       "MINI                     28.405724\n",
       "MITSUBISHI               26.683135\n",
       "MERCEDES-BENZ            26.009592\n",
       "TOYOTA                   25.777984\n",
       "LINCOLN                  22.712230\n",
       "JEEP                     22.688385\n",
       "LAND ROVER               19.000000\n",
       "BENTLEY                  17.500000\n",
       "SUBARU                   17.000000\n",
       "VOLVO                    15.239839\n",
       "FORD                     14.936761\n",
       "LUCID MOTORS              0.000000\n",
       "RIVIAN                    0.000000\n",
       "GENESIS                   0.000000\n",
       "Name: Electric Range, dtype: float64"
      ]
     },
     "execution_count": 6,
     "metadata": {},
     "output_type": "execute_result"
    }
   ],
   "source": [
    "temp = df.groupby('Make').mean()['Electric Range'].sort_values(ascending=False)\n",
    "temp"
   ]
  },
  {
   "cell_type": "code",
   "execution_count": 7,
   "id": "bf204256",
   "metadata": {},
   "outputs": [
    {
     "data": {
      "image/png": "[encoded data removed]",
      "text/plain": [
       "<Figure size 432x288 with 1 Axes>"
      ]
     },
     "metadata": {
      "needs_background": "light"
     },
     "output_type": "display_data"
    }
   ],
   "source": [
    "temp.plot.bar(x='Make', y='Electric Range')\n",
    "plt.title('Electric Range of Each Electric Vehicle Make Registered in Washington')\n",
    "plt.ylabel('Electric Range')\n",
    "plt.show()"
   ]
  },
  {
   "cell_type": "markdown",
   "id": "3b266d31",
   "metadata": {},
   "source": [
    "This is a graph displaying the average electric range of each make of electric vehicle registered in Washington. While this doesn't say much about Washington or the state of electric vehicles in Washington, it does show which makes of electric cars have the highest average electric range."
   ]
  },
  {
   "cell_type": "code",
   "execution_count": 8,
   "id": "f959da20",
   "metadata": {},
   "outputs": [
    {
     "data": {
      "text/plain": [
       "City         Electric Vehicle Type                 \n",
       "Aberdeen     Battery Electric Vehicle (BEV)             60\n",
       "             Plug-in Hybrid Electric Vehicle (PHEV)     39\n",
       "Acme         Battery Electric Vehicle (BEV)              3\n",
       "             Plug-in Hybrid Electric Vehicle (PHEV)      2\n",
       "Adairsville  Plug-in Hybrid Electric Vehicle (PHEV)      1\n",
       "                                                      ... \n",
       "Yelm         Battery Electric Vehicle (BEV)            132\n",
       "             Plug-in Hybrid Electric Vehicle (PHEV)     62\n",
       "Yermo        Battery Electric Vehicle (BEV)              1\n",
       "Zillah       Battery Electric Vehicle (BEV)             16\n",
       "             Plug-in Hybrid Electric Vehicle (PHEV)      6\n",
       "Name: Electric Vehicle Type, Length: 1021, dtype: int64"
      ]
     },
     "execution_count": 8,
     "metadata": {},
     "output_type": "execute_result"
    }
   ],
   "source": [
    "temp = df.groupby('City')['Electric Vehicle Type'].value_counts()\n",
    "temp\n",
    "#sns.barplot(data=temp, x='City', y=temp.iloc[:,2], hue='Electric Vehicle Type')"
   ]
  },
  {
   "cell_type": "markdown",
   "id": "cbf99711",
   "metadata": {},
   "source": [
    "I was trying to graph the amount of PHEV and BEV vehicles in each city using a barplot with two bars for each city but it didn't work. This would have been interesting simply to see which type of vehicle seems the most prevalent and if the ratio between the two changed significantly between cities."
   ]
  },
  {
   "cell_type": "code",
   "execution_count": 9,
   "id": "e758f9c3",
   "metadata": {},
   "outputs": [
    {
     "data": {
      "text/html": [
       "<div>\n",
       "<style scoped>\n",
       "    .dataframe tbody tr th:only-of-type {\n",
       "        vertical-align: middle;\n",
       "    }\n",
       "\n",
       "    .dataframe tbody tr th {\n",
       "        vertical-align: top;\n",
       "    }\n",
       "\n",
       "    .dataframe thead th {\n",
       "        text-align: right;\n",
       "    }\n",
       "</style>\n",
       "<table border=\"1\" class=\"dataframe\">\n",
       "  <thead>\n",
       "    <tr style=\"text-align: right;\">\n",
       "      <th></th>\n",
       "      <th>Model Year</th>\n",
       "      <th>num_of_vehicles</th>\n",
       "    </tr>\n",
       "  </thead>\n",
       "  <tbody>\n",
       "    <tr>\n",
       "      <th>0</th>\n",
       "      <td>1993</td>\n",
       "      <td>1</td>\n",
       "    </tr>\n",
       "    <tr>\n",
       "      <th>1</th>\n",
       "      <td>1997</td>\n",
       "      <td>1</td>\n",
       "    </tr>\n",
       "    <tr>\n",
       "      <th>2</th>\n",
       "      <td>1998</td>\n",
       "      <td>1</td>\n",
       "    </tr>\n",
       "    <tr>\n",
       "      <th>3</th>\n",
       "      <td>1999</td>\n",
       "      <td>3</td>\n",
       "    </tr>\n",
       "    <tr>\n",
       "      <th>4</th>\n",
       "      <td>2000</td>\n",
       "      <td>10</td>\n",
       "    </tr>\n",
       "    <tr>\n",
       "      <th>5</th>\n",
       "      <td>2002</td>\n",
       "      <td>2</td>\n",
       "    </tr>\n",
       "    <tr>\n",
       "      <th>6</th>\n",
       "      <td>2008</td>\n",
       "      <td>26</td>\n",
       "    </tr>\n",
       "    <tr>\n",
       "      <th>7</th>\n",
       "      <td>2010</td>\n",
       "      <td>26</td>\n",
       "    </tr>\n",
       "    <tr>\n",
       "      <th>8</th>\n",
       "      <td>2011</td>\n",
       "      <td>849</td>\n",
       "    </tr>\n",
       "    <tr>\n",
       "      <th>9</th>\n",
       "      <td>2012</td>\n",
       "      <td>1713</td>\n",
       "    </tr>\n",
       "    <tr>\n",
       "      <th>10</th>\n",
       "      <td>2013</td>\n",
       "      <td>4741</td>\n",
       "    </tr>\n",
       "    <tr>\n",
       "      <th>11</th>\n",
       "      <td>2014</td>\n",
       "      <td>3697</td>\n",
       "    </tr>\n",
       "    <tr>\n",
       "      <th>12</th>\n",
       "      <td>2015</td>\n",
       "      <td>5003</td>\n",
       "    </tr>\n",
       "    <tr>\n",
       "      <th>13</th>\n",
       "      <td>2016</td>\n",
       "      <td>6273</td>\n",
       "    </tr>\n",
       "    <tr>\n",
       "      <th>14</th>\n",
       "      <td>2017</td>\n",
       "      <td>9740</td>\n",
       "    </tr>\n",
       "    <tr>\n",
       "      <th>15</th>\n",
       "      <td>2018</td>\n",
       "      <td>14325</td>\n",
       "    </tr>\n",
       "    <tr>\n",
       "      <th>16</th>\n",
       "      <td>2019</td>\n",
       "      <td>10593</td>\n",
       "    </tr>\n",
       "    <tr>\n",
       "      <th>17</th>\n",
       "      <td>2020</td>\n",
       "      <td>11018</td>\n",
       "    </tr>\n",
       "    <tr>\n",
       "      <th>18</th>\n",
       "      <td>2021</td>\n",
       "      <td>19381</td>\n",
       "    </tr>\n",
       "    <tr>\n",
       "      <th>19</th>\n",
       "      <td>2022</td>\n",
       "      <td>21414</td>\n",
       "    </tr>\n",
       "    <tr>\n",
       "      <th>20</th>\n",
       "      <td>2023</td>\n",
       "      <td>210</td>\n",
       "    </tr>\n",
       "  </tbody>\n",
       "</table>\n",
       "</div>"
      ],
      "text/plain": [
       "    Model Year  num_of_vehicles\n",
       "0         1993                1\n",
       "1         1997                1\n",
       "2         1998                1\n",
       "3         1999                3\n",
       "4         2000               10\n",
       "5         2002                2\n",
       "6         2008               26\n",
       "7         2010               26\n",
       "8         2011              849\n",
       "9         2012             1713\n",
       "10        2013             4741\n",
       "11        2014             3697\n",
       "12        2015             5003\n",
       "13        2016             6273\n",
       "14        2017             9740\n",
       "15        2018            14325\n",
       "16        2019            10593\n",
       "17        2020            11018\n",
       "18        2021            19381\n",
       "19        2022            21414\n",
       "20        2023              210"
      ]
     },
     "execution_count": 9,
     "metadata": {},
     "output_type": "execute_result"
    }
   ],
   "source": [
    "temp = df.groupby('Model Year').count().reset_index()[['Model Year', 'VIN (1-10)']]\n",
    "temp = temp.rename(columns={'VIN (1-10)': 'num_of_vehicles'})\n",
    "temp"
   ]
  },
  {
   "cell_type": "code",
   "execution_count": 10,
   "id": "09734d23",
   "metadata": {},
   "outputs": [
    {
     "data": {
      "image/png": "[encoded data removed]",
      "text/plain": [
       "<Figure size 432x288 with 1 Axes>"
      ]
     },
     "metadata": {
      "needs_background": "light"
     },
     "output_type": "display_data"
    }
   ],
   "source": [
    "temp.plot.line(x='Model Year', y='num_of_vehicles')\n",
    "\n",
    "plt.ylabel('Number of Vehicles')\n",
    "plt.title('Number of Vehicles Registered in Washington by Model Year')\n",
    "\n",
    "plt.show()"
   ]
  },
  {
   "cell_type": "markdown",
   "id": "0a6eaa23",
   "metadata": {},
   "source": [
    "This is the total number of vehicles from each Model Year registered in Washington. I found this interesting to see a simple visualization of what model years were the most popular and when a significant number of them began appearing. An interesting find that I did not expect is that a single electric vehicle was registered in each of the model years: 1993, 1997, and 1998, which is long before when I had thought electric vehicles were first made."
   ]
  },
  {
   "cell_type": "code",
   "execution_count": 11,
   "id": "6af6b9dc",
   "metadata": {
    "scrolled": true
   },
   "outputs": [
    {
     "data": {
      "image/png": "[encoded data removed]",
      "text/plain": [
       "<Figure size 432x288 with 1 Axes>"
      ]
     },
     "metadata": {
      "needs_background": "light"
     },
     "output_type": "display_data"
    }
   ],
   "source": [
    "temp = df.groupby('Model Year').mean()['Electric Range']\n",
    "\n",
    "plt.ylabel('Electric Range')\n",
    "plt.title('Electric Range of Vehicles by Model Year')\n",
    "\n",
    "temp.plot.line()\n",
    "plt.show()"
   ]
  },
  {
   "cell_type": "markdown",
   "id": "070ed94a",
   "metadata": {},
   "source": [
    "This is a simple line plot displaying the average electric range of electric vehicles registered in Washington from each model year in the years 1993-2023. I think it is interesting to visualize because although the years go on, it does not mean we have linearly increased the electric range of our vehicles, which is clearly demonstrated by this graph."
   ]
  },
  {
   "cell_type": "code",
   "execution_count": 12,
   "id": "040f1f83",
   "metadata": {},
   "outputs": [
    {
     "data": {
      "text/plain": [
       "City\n",
       "Aberdeen          TESLA\n",
       "Acme               FORD\n",
       "Adairsville         BMW\n",
       "Addy                BMW\n",
       "Airway Heights    TESLA\n",
       "                  ...  \n",
       "Yakima            TESLA\n",
       "Yarrow Point      TESLA\n",
       "Yelm              TESLA\n",
       "Yermo             TESLA\n",
       "Zillah            TESLA\n",
       "Length: 638, dtype: object"
      ]
     },
     "execution_count": 12,
     "metadata": {},
     "output_type": "execute_result"
    }
   ],
   "source": [
    "temp = df.groupby('City')['Make'].value_counts().unstack().idxmax(axis=1)\n",
    "temp"
   ]
  },
  {
   "cell_type": "markdown",
   "id": "99dda6b6",
   "metadata": {},
   "source": [
    "Although a visualization wouldn't be useful here, this is a list of which make of electric vehicle is most common in each city. I think this is interesting just to see what is overall the most common vehicle make and if many of the cities prefer a make other than the most popular ones."
   ]
  },
  {
   "cell_type": "markdown",
   "id": "28ae2107",
   "metadata": {},
   "source": [
    "**Group Names:**\n",
    "\n",
    "I am just a group of one, so: Ashton Anaya"
   ]
  },
  {
   "cell_type": "code",
   "execution_count": null,
   "id": "e7dd867e",
   "metadata": {},
   "outputs": [],
   "source": []
  }
 ],
 "metadata": {
  "kernelspec": {
   "display_name": "Python 3 (ipykernel)",
   "language": "python",
   "name": "python3"
  },
  "language_info": {
   "codemirror_mode": {
    "name": "ipython",
    "version": 3
   },
   "file_extension": ".py",
   "mimetype": "text/x-python",
   "name": "python",
   "nbconvert_exporter": "python",
   "pygments_lexer": "ipython3",
   "version": "3.9.12"
  }
 },
 "nbformat": 4,
 "nbformat_minor": 5
}
